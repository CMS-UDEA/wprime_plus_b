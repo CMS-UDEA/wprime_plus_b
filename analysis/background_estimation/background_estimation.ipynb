{
 "cells": [
  {
   "cell_type": "code",
   "execution_count": 9,
   "id": "1ab8091c-2f48-4809-a287-3cde2e4eaf54",
   "metadata": {},
   "outputs": [
    {
     "ename": "ModuleNotFoundError",
     "evalue": "No module named 'analysis'",
     "output_type": "error",
     "traceback": [
      "\u001b[0;31m---------------------------------------------------------------------------\u001b[0m",
      "\u001b[0;31mModuleNotFoundError\u001b[0m                       Traceback (most recent call last)",
      "Input \u001b[0;32mIn [9]\u001b[0m, in \u001b[0;36m<cell line: 8>\u001b[0;34m()\u001b[0m\n\u001b[1;32m      6\u001b[0m \u001b[38;5;28;01mfrom\u001b[39;00m \u001b[38;5;21;01mcoffea\u001b[39;00m\u001b[38;5;21;01m.\u001b[39;00m\u001b[38;5;21;01manalysis_tools\u001b[39;00m \u001b[38;5;28;01mimport\u001b[39;00m Weights, PackedSelection\n\u001b[1;32m      7\u001b[0m \u001b[38;5;28;01mfrom\u001b[39;00m \u001b[38;5;21;01mtyping\u001b[39;00m \u001b[38;5;28;01mimport\u001b[39;00m List\n\u001b[0;32m----> 8\u001b[0m \u001b[38;5;28;01mfrom\u001b[39;00m \u001b[38;5;21;01manalysis\u001b[39;00m\u001b[38;5;21;01m.\u001b[39;00m\u001b[38;5;21;01mcorrections\u001b[39;00m \u001b[38;5;28;01mimport\u001b[39;00m add_pileup_weight\n",
      "\u001b[0;31mModuleNotFoundError\u001b[0m: No module named 'analysis'"
     ]
    }
   ],
   "source": [
    "import json\n",
    "import numpy as np\n",
    "import awkward as ak\n",
    "from coffea import processor\n",
    "from coffea.nanoevents import NanoEventsFactory, NanoAODSchema\n",
    "from coffea.analysis_tools import Weights, PackedSelection\n",
    "from typing import List\n",
    "from analysis.corrections import add_pileup_weight"
   ]
  },
  {
   "cell_type": "code",
   "execution_count": null,
   "id": "01bce56f-fd15-4b60-bb8c-17dbb603d24f",
   "metadata": {},
   "outputs": [],
   "source": [
    "b-lepton-met/analysis/corrections.py"
   ]
  },
  {
   "cell_type": "code",
   "execution_count": 4,
   "id": "059434b4-1df2-40d0-94a6-57ea4135fae1",
   "metadata": {},
   "outputs": [],
   "source": [
    "triggers = {\n",
    "    # reference and cental triggers\n",
    "    \"2016\": {    \n",
    "        \"ele\": [\n",
    "            #\"IsoMu24\", \n",
    "            \"Ele27_WPTight_Gsf\"\n",
    "        ],\n",
    "        \"mu\": [\n",
    "            \"IsoMu24\",\n",
    "        ]\n",
    "    },\n",
    "    \"2017\": {\n",
    "        \"ele\": [\n",
    "            #\"IsoMu27\", \n",
    "            \"Ele35_WPTight_Gsf\"\n",
    "        ],\n",
    "        \"mu\": [\n",
    "            \"IsoMu27\",\n",
    "        ]\n",
    "    },\n",
    "    \"2018\": {\n",
    "        \"ele\": [\n",
    "            #\"IsoMu24\", \n",
    "            \"Ele32_WPTight_Gsf\"\n",
    "        ],\n",
    "        \"mu\": [\n",
    "            \"IsoMu24\"\n",
    "        ]\n",
    "    }\n",
    "}\n",
    "\n",
    "btagDeepFlavB = {\n",
    "    \"2016\": 0.2598,\n",
    "    \"2017\": 0.3040,\n",
    "    \"2018\": 0.2783\n",
    "}"
   ]
  },
  {
   "cell_type": "code",
   "execution_count": 5,
   "id": "3e3c9fe4-0051-47ec-803f-7e4dce8a59d3",
   "metadata": {},
   "outputs": [],
   "source": [
    "class BackgroundEstimatorProcessor(processor.ProcessorABC):\n",
    "    def __init__(\n",
    "        self, \n",
    "        year: str = \"2017\", \n",
    "        yearmod: str = \"\",\n",
    "        channels: List[str] = [\"ele\", \"mu\"],\n",
    "        output_location : str = \"./outfiles/\"\n",
    "    ):\n",
    "        self._year = year\n",
    "        self._yearmod = yearmod\n",
    "        self._channels = channels\n",
    "        self._output_location = output_location\n",
    "        self._triggers = triggers[self._year]\n",
    "        self.common_weights = [\"genweight\", \"L1Prefiring\", \"pileup\"]\n",
    "        \n",
    "    def add_selection(\n",
    "        self, \n",
    "        name: str, \n",
    "        sel: np.ndarray, \n",
    "        channel: List[str] = None\n",
    "    ):\n",
    "        \"\"\"Adds selection to PackedSelection object and the cutflow dictionary\"\"\"\n",
    "        channels = channel if channel else self._channels\n",
    "        for ch in channels:\n",
    "            self.selections[ch].add(name, sel)\n",
    "            selection_ch = self.selections[ch].all(*self.selections[ch].names)\n",
    "            if self.isMC:\n",
    "                weight = self.weights.partial_weight(self.weights_per_ch[ch] + self.common_weights)\n",
    "                self.cutflows[ch][name] = float(weight[selection_ch].sum())\n",
    "            else:\n",
    "                self.cutflows[ch][name] = np.sum(selection_ch)\n",
    "        \n",
    "        \n",
    "    @property\n",
    "    def accumulator(self):\n",
    "        return self._accumulator\n",
    "    \n",
    "    def process(self, events: ak.Array):\n",
    "        \"\"\"Returns skimmed events which pass preselection cuts and with the branches listed in self._skimvars\"\"\"\n",
    "        dataset = events.metadata[\"dataset\"]\n",
    "        nevents = len(events)\n",
    "        \n",
    "        self.isMC = hasattr(events, \"genWeight\")\n",
    "        self.weights = Weights(nevents, storeIndividual=True)\n",
    "        self.weights_per_ch = {}\n",
    "        self.selections = {}\n",
    "        self.cutflows = {}\n",
    "        for ch in self._channels:\n",
    "            self.weights_per_ch[ch] = []\n",
    "            self.selections[ch] = PackedSelection()\n",
    "            self.cutflows[ch] = {}\n",
    "\n",
    "        sumgenweight = ak.sum(events.genWeight) if self.isMC else 0\n",
    "        \n",
    "        \n",
    "        # trigger\n",
    "        trigger = {}\n",
    "        for ch in self._channels:\n",
    "            trigger[ch] = np.zeros(nevents, dtype=\"bool\")\n",
    "            for t in self._triggers[ch]:\n",
    "                if t in events.HLT.fields:\n",
    "                    trigger[ch] = trigger[ch] | events.HLT[t]\n",
    "            \n",
    "            \n",
    "        # electrons \n",
    "        good_electrons = (\n",
    "            (events.Electron.pt > 0)\n",
    "            & (np.abs(events.Electron.eta) < 2.4)\n",
    "            & ((np.abs(events.Electron.eta) < 1.44) | (np.abs(events.Electron.eta) > 1.57))\n",
    "            & (events.Electron.mvaFall17V2noIso_WP90)\n",
    "        )\n",
    "        n_good_electrons = ak.sum(good_electrons, axis=1)\n",
    "        \n",
    "        \n",
    "        # muons\n",
    "        # mediumId OR tightId?\n",
    "        # DO WE NEED LOOSE MUONS? \n",
    "        good_muons = (\n",
    "            (events.Muon.pt > 30)\n",
    "            & (np.abs(events.Muon.eta) < 2.4)\n",
    "            & events.Muon.mediumId\n",
    "        )\n",
    "        n_good_muons = ak.sum(good_muons, axis=1)\n",
    "        \n",
    "        # get candidate lepton\n",
    "        goodleptons = ak.concatenate(\n",
    "            [events.Muon[good_muons], events.Electron[good_electrons]], axis=1\n",
    "        )  \n",
    "        goodleptons = goodleptons[ak.argsort(goodleptons.pt, ascending=False)]  \n",
    "        candidatelep = ak.firsts(goodleptons)\n",
    "        \n",
    "        \n",
    "        # b-jets\n",
    "        # IS btagDeepFlavB YEAR AND CHANNEL DEPENDENT?\n",
    "        good_bjets = (\n",
    "            (ak.firsts(events.Jet.pt) > 30)\n",
    "            & (events.Jet.jetId == 6)\n",
    "            & (events.Jet.puId == 7)\n",
    "            & (events.Jet.btagDeepFlavB > btagDeepFlavB[self._year])\n",
    "        )\n",
    "        n_good_bjets = ak.sum(good_bjets, axis=1)\n",
    "        \n",
    "        \n",
    "        # weights\n",
    "        weigths = {}\n",
    "        if self.isMC:\n",
    "            self.weights.add(\"genweight\", events.genWeight)\n",
    "            if self._year in (\"2016\", \"2017\"):\n",
    "                self.weights.add(\n",
    "                    \"L1Prefiring\", events.L1PreFiringWeight.Nom, events.L1PreFiringWeight.Up, events.L1PreFiringWeight.Dn\n",
    "                )\n",
    "            add_pileup_weight(self.weights, self._year, self._yearmod, nPU=ak.to_numpy(events.Pileup.nPU))\n",
    "            \n",
    "            weigths[\"genweight\"] = self.weights.partial_weight(include=[\"genweight\"])\n",
    "            weigths[\"L1Prefiring\"] = self.weights.partial_weight(include=[\"L1Prefiring\"])\n",
    "            weigths[\"pileup\"] = self.weights.partial_weight(include=[\"pileup\"])\n",
    "            \n",
    "                    \n",
    "        # selections\n",
    "        self.add_selection(\"all\", np.ones(nevents, dtype=\"bool\"))\n",
    "        for ch in self._channels:\n",
    "            self.add_selection(\"trigger\", trigger[ch], [ch])\n",
    "        self.add_selection(\n",
    "            name=\"one_lepton\",\n",
    "            sel=(\n",
    "                (n_good_muons == 1)\n",
    "                & (n_good_electrons == 0)\n",
    "            ),\n",
    "            channel=[\"mu\"],\n",
    "        )\n",
    "        self.add_selection(\n",
    "            name=\"one_lepton\",\n",
    "            sel=(\n",
    "                (n_good_muons == 0)\n",
    "                & (n_good_electrons == 1)\n",
    "            ),\n",
    "            channel=[\"ele\"],\n",
    "        )\n",
    "        self.add_selection(\"two_bjets\", n_good_bjets >= 2)\n",
    "        self.add_selection(\"met30\", events.MET.pt > 50)\n",
    "        \n",
    "        \n",
    "        ## output\n",
    "        #output = {}\n",
    "        #for ch in self._channels:\n",
    "        #    selection_ch = self.selections[ch].all(*self.selections[ch].names)\n",
    "            \n",
    "        return {dataset: weigths}\n",
    "            \n",
    "    def postprocess(self, accumulator):\n",
    "        return accumulator"
   ]
  },
  {
   "cell_type": "code",
   "execution_count": 6,
   "id": "78c600b2-7d5d-40d8-acb8-625fcd445d84",
   "metadata": {},
   "outputs": [],
   "source": [
    "fileset = {\n",
    "    \"DYJetsToLL_Pt-100To250_MatchEWPDG20_TuneCP5_13TeV-amcatnloFXFX-pythia8\": [\"root://xcache//store/mc/RunIISummer20UL17NanoAODv2/DYJetsToLL_Pt-100To250_MatchEWPDG20_TuneCP5_13TeV-amcatnloFXFX-pythia8/NANOAODSIM/106X_mc2017_realistic_v8-v1/240000/A3975393-1AED-B547-8CA2-28B5841C4895.root\"],\n",
    "}"
   ]
  },
  {
   "cell_type": "code",
   "execution_count": 7,
   "id": "a3f414b8-4ade-4e41-98e5-9b55c4407423",
   "metadata": {},
   "outputs": [
    {
     "data": {
      "application/vnd.jupyter.widget-view+json": {
       "model_id": "fc1d316657cc4297852a07707695788e",
       "version_major": 2,
       "version_minor": 0
      },
      "text/plain": [
       "Output()"
      ]
     },
     "metadata": {},
     "output_type": "display_data"
    },
    {
     "data": {
      "text/html": [
       "<pre style=\"white-space:pre;overflow-x:auto;line-height:normal;font-family:Menlo,'DejaVu Sans Mono',consolas,'Courier New',monospace\"></pre>\n"
      ],
      "text/plain": []
     },
     "metadata": {},
     "output_type": "display_data"
    },
    {
     "data": {
      "text/html": [
       "<pre style=\"white-space:pre;overflow-x:auto;line-height:normal;font-family:Menlo,'DejaVu Sans Mono',consolas,'Courier New',monospace\">\n",
       "</pre>\n"
      ],
      "text/plain": [
       "\n"
      ]
     },
     "metadata": {},
     "output_type": "display_data"
    },
    {
     "data": {
      "application/vnd.jupyter.widget-view+json": {
       "model_id": "6794a33a291340fd9dc83651134ebc4e",
       "version_major": 2,
       "version_minor": 0
      },
      "text/plain": [
       "Output()"
      ]
     },
     "metadata": {},
     "output_type": "display_data"
    },
    {
     "data": {
      "text/html": [
       "<pre style=\"white-space:pre;overflow-x:auto;line-height:normal;font-family:Menlo,'DejaVu Sans Mono',consolas,'Courier New',monospace\"></pre>\n"
      ],
      "text/plain": []
     },
     "metadata": {},
     "output_type": "display_data"
    },
    {
     "data": {
      "text/html": [
       "<pre style=\"white-space:pre;overflow-x:auto;line-height:normal;font-family:Menlo,'DejaVu Sans Mono',consolas,'Courier New',monospace\">\n",
       "</pre>\n"
      ],
      "text/plain": [
       "\n"
      ]
     },
     "metadata": {},
     "output_type": "display_data"
    }
   ],
   "source": [
    "out = processor.run_uproot_job(\n",
    "    fileset,\n",
    "    treename=\"Events\",\n",
    "    processor_instance=BackgroundEstimatorProcessor(),\n",
    "    executor=processor.IterativeExecutor,\n",
    "    executor_args={\n",
    "        \"schema\": processor.NanoAODSchema,\n",
    "    },\n",
    ")"
   ]
  },
  {
   "cell_type": "code",
   "execution_count": 8,
   "id": "5f56954c-4c9c-44bd-810a-ffef93ae47bb",
   "metadata": {},
   "outputs": [
    {
     "data": {
      "text/plain": [
       "array([1137.05895996, 1137.05895996, 3411.17687988, ..., 1137.05895996,\n",
       "       1137.05895996, 2274.11791992])"
      ]
     },
     "execution_count": 8,
     "metadata": {},
     "output_type": "execute_result"
    }
   ],
   "source": [
    "out['DYJetsToLL_Pt-100To250_MatchEWPDG20_TuneCP5_13TeV-amcatnloFXFX-pythia8'][\"genweight\"]"
   ]
  },
  {
   "cell_type": "code",
   "execution_count": 9,
   "id": "2e4a48ba-fe44-4801-86c1-bea617ca8939",
   "metadata": {},
   "outputs": [
    {
     "data": {
      "text/plain": [
       "array([4.87387884, 5.39471781, 5.72314876, ..., 5.80820811, 5.39434707,\n",
       "       4.92705172])"
      ]
     },
     "execution_count": 9,
     "metadata": {},
     "output_type": "execute_result"
    }
   ],
   "source": [
    "out['DYJetsToLL_Pt-100To250_MatchEWPDG20_TuneCP5_13TeV-amcatnloFXFX-pythia8'][\"L1Prefiring\"]"
   ]
  },
  {
   "cell_type": "code",
   "execution_count": 10,
   "id": "d44bffcc-aa1d-4e90-b39f-fac453ba6f81",
   "metadata": {},
   "outputs": [
    {
     "data": {
      "text/plain": [
       "array([5.88948196, 5.75624723, 5.94009577, ..., 6.13647971, 5.93715912,\n",
       "       6.12800179])"
      ]
     },
     "execution_count": 10,
     "metadata": {},
     "output_type": "execute_result"
    }
   ],
   "source": [
    "out['DYJetsToLL_Pt-100To250_MatchEWPDG20_TuneCP5_13TeV-amcatnloFXFX-pythia8'][\"pileup\"]"
   ]
  },
  {
   "cell_type": "code",
   "execution_count": null,
   "id": "38609ed1-aa79-4361-a273-31ee7b903e3e",
   "metadata": {},
   "outputs": [],
   "source": []
  }
 ],
 "metadata": {
  "kernelspec": {
   "display_name": "Python 3 (ipykernel)",
   "language": "python",
   "name": "python3"
  },
  "language_info": {
   "codemirror_mode": {
    "name": "ipython",
    "version": 3
   },
   "file_extension": ".py",
   "mimetype": "text/x-python",
   "name": "python",
   "nbconvert_exporter": "python",
   "pygments_lexer": "ipython3",
   "version": "3.8.13"
  }
 },
 "nbformat": 4,
 "nbformat_minor": 5
}
