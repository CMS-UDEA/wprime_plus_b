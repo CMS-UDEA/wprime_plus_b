{
 "cells": [
  {
   "cell_type": "code",
   "execution_count": 1,
   "id": "1ab8091c-2f48-4809-a287-3cde2e4eaf54",
   "metadata": {},
   "outputs": [
    {
     "name": "stdout",
     "output_type": "stream",
     "text": [
      "/home/cms-jovyan/b_lepton_met/analysis\n"
     ]
    }
   ],
   "source": [
    "cd .."
   ]
  },
  {
   "cell_type": "code",
   "execution_count": 14,
   "id": "d2764df0-a386-46aa-baeb-7ff7e8f4aa99",
   "metadata": {},
   "outputs": [],
   "source": [
    "import json\n",
    "import pickle\n",
    "import importlib\n",
    "import numpy as np\n",
    "import awkward as ak\n",
    "from typing import List\n",
    "from coffea import processor\n",
    "from coffea.nanoevents import NanoEventsFactory, NanoAODSchema\n",
    "from coffea.analysis_tools import Weights, PackedSelection\n",
    "from corrections import add_pileup_weight"
   ]
  },
  {
   "cell_type": "code",
   "execution_count": 18,
   "id": "3e3c9fe4-0051-47ec-803f-7e4dce8a59d3",
   "metadata": {},
   "outputs": [],
   "source": [
    "class BackgroundEstimatorProcessor(processor.ProcessorABC):\n",
    "    def __init__(\n",
    "        self, \n",
    "        year: str = \"2017\", \n",
    "        yearmod: str = \"\",\n",
    "        channels: List[str] = [\"ele\", \"mu\"],\n",
    "        output_location : str = \"./outfiles/\"\n",
    "    ):\n",
    "        self._year = year\n",
    "        self._yearmod = yearmod\n",
    "        self._channels = channels\n",
    "        self._output_location = output_location\n",
    "        self.common_weights = [\"genweight\", \"L1Prefiring\", \"pileup\"]\n",
    "        \n",
    "        # open triggers\n",
    "        with open(\"data/triggers.json\", \"r\") as f:\n",
    "            self._triggers = json.load(f)[self._year]\n",
    "            \n",
    "        # open btagDeepFlavB\n",
    "        with open(\"data/btagDeepFlavB.json\", \"r\") as f:\n",
    "            self._btagDeepFlavB = json.load(f)[self._year]\n",
    "            \n",
    "        # open lumi masks\n",
    "        with open('data/lumi_masks.pkl', 'rb') as handle:\n",
    "            self._lumi_mask = pickle.load(handle)\n",
    "        \n",
    "        \n",
    "    def add_selection(\n",
    "        self, \n",
    "        name: str, \n",
    "        sel: np.ndarray, \n",
    "        channel: List[str] = None\n",
    "    ):\n",
    "        \"\"\"Adds selection to PackedSelection object and the cutflow dictionary\"\"\"\n",
    "        channels = channel if channel else self._channels\n",
    "        for ch in channels:\n",
    "            self.selections[ch].add(name, sel)\n",
    "            selection_ch = self.selections[ch].all(*self.selections[ch].names)\n",
    "            if self.isMC:\n",
    "                weight = self.weights.partial_weight(self.weights_per_ch[ch] + self.common_weights)\n",
    "                self.cutflows[ch][name] = float(weight[selection_ch].sum())\n",
    "            else:\n",
    "                self.cutflows[ch][name] = np.sum(selection_ch)\n",
    "        \n",
    "        \n",
    "    @property\n",
    "    def accumulator(self):\n",
    "        return self._accumulator\n",
    "    \n",
    "    def process(self, events: ak.Array):\n",
    "        \"\"\"Returns skimmed events which pass preselection cuts and with the branches listed in self._skimvars\"\"\"\n",
    "        dataset = events.metadata[\"dataset\"]\n",
    "        nevents = len(events)\n",
    "        \n",
    "        self.isMC = hasattr(events, \"genWeight\")\n",
    "        self.weights = Weights(nevents, storeIndividual=True)\n",
    "        self.weights_per_ch = {}\n",
    "        self.selections = {}\n",
    "        self.cutflows = {}\n",
    "        for ch in self._channels:\n",
    "            self.weights_per_ch[ch] = []\n",
    "            self.selections[ch] = PackedSelection()\n",
    "            self.cutflows[ch] = {}\n",
    "\n",
    "        sumgenweight = ak.sum(events.genWeight) if self.isMC else 0\n",
    "        \n",
    "        # lumi \n",
    "        if not self.isMC:\n",
    "            self._lumi = self._lumi_mask[self._year](events.run, events.luminosityBlock)\n",
    "        else:\n",
    "            self._lumi = np.ones(len(events), dtype='bool')\n",
    "\n",
    "        # triggers\n",
    "        trigger = {}\n",
    "        for ch in self._channels:\n",
    "            trigger[ch] = np.zeros(nevents, dtype=\"bool\")\n",
    "            for t in self._triggers[ch]:\n",
    "                if t in events.HLT.fields:\n",
    "                    trigger[ch] = trigger[ch] | events.HLT[t]\n",
    "            \n",
    "            \n",
    "        # electrons \n",
    "        good_electrons = (\n",
    "            (events.Electron.pt > 0)\n",
    "            & (np.abs(events.Electron.eta) < 2.4)\n",
    "            & ((np.abs(events.Electron.eta) < 1.44) | (np.abs(events.Electron.eta) > 1.57))\n",
    "            & (events.Electron.mvaFall17V2noIso_WP90)\n",
    "        )\n",
    "        n_good_electrons = ak.sum(good_electrons, axis=1)\n",
    "        \n",
    "        \n",
    "        # muons\n",
    "        # mediumId OR tightId?\n",
    "        # DO WE NEED LOOSE MUONS? \n",
    "        good_muons = (\n",
    "            (events.Muon.pt > 30)\n",
    "            & (np.abs(events.Muon.eta) < 2.4)\n",
    "            & events.Muon.mediumId\n",
    "        )\n",
    "        n_good_muons = ak.sum(good_muons, axis=1)\n",
    "        \n",
    "        # get candidate lepton\n",
    "        goodleptons = ak.concatenate(\n",
    "            [events.Muon[good_muons], events.Electron[good_electrons]], axis=1\n",
    "        )  \n",
    "        goodleptons = goodleptons[ak.argsort(goodleptons.pt, ascending=False)]  \n",
    "        candidatelep = ak.firsts(goodleptons)\n",
    "        \n",
    "        \n",
    "        # b-jets\n",
    "        # IS btagDeepFlavB YEAR AND CHANNEL DEPENDENT?\n",
    "        good_bjets = (\n",
    "            (ak.firsts(events.Jet.pt) > 30)\n",
    "            & (events.Jet.jetId == 6)\n",
    "            & (events.Jet.puId == 7)\n",
    "            & (events.Jet.btagDeepFlavB > self._btagDeepFlavB)\n",
    "        )\n",
    "        n_good_bjets = ak.sum(good_bjets, axis=1)\n",
    "        \n",
    "        # MET\n",
    "        met = events.MET[events.MET.pt > 50]\n",
    "        \n",
    "        \n",
    "        # weights\n",
    "        weigths = {}\n",
    "        if self.isMC:\n",
    "            self.weights.add(\"genweight\", events.genWeight)\n",
    "            if self._year in (\"2016\", \"2017\"):\n",
    "                self.weights.add(\n",
    "                    \"L1Prefiring\", events.L1PreFiringWeight.Nom, events.L1PreFiringWeight.Up, events.L1PreFiringWeight.Dn\n",
    "                )\n",
    "            add_pileup_weight(self.weights, self._year, self._yearmod, nPU=ak.to_numpy(events.Pileup.nPU))\n",
    "            \n",
    "                    \n",
    "        # selections\n",
    "        self.add_selection(\"all\", np.ones(nevents, dtype=\"bool\"))\n",
    "        for ch in self._channels:\n",
    "            self.add_selection(\"trigger\", trigger[ch], [ch])\n",
    "        self.add_selection(\n",
    "            name=\"one_lepton\",\n",
    "            sel=(\n",
    "                (n_good_muons == 1)\n",
    "                & (n_good_electrons == 0)\n",
    "            ),\n",
    "            channel=[\"mu\"],\n",
    "        )\n",
    "        self.add_selection(\n",
    "            name=\"one_lepton\",\n",
    "            sel=(\n",
    "                (n_good_muons == 0)\n",
    "                & (n_good_electrons == 1)\n",
    "            ),\n",
    "            channel=[\"ele\"],\n",
    "        )\n",
    "        self.add_selection(\"two_bjets\", n_good_bjets >= 2)\n",
    "        \n",
    "        \n",
    "        ## output\n",
    "        #output = {}\n",
    "        #for ch in self._channels:\n",
    "        #    selection_ch = self.selections[ch].all(*self.selections[ch].names)\n",
    "        #    output[ch] = {\"jet\": }\n",
    "            \n",
    "        return {dataset: weigths}\n",
    "            \n",
    "    def postprocess(self, accumulator):\n",
    "        return accumulator"
   ]
  },
  {
   "cell_type": "code",
   "execution_count": 19,
   "id": "78c600b2-7d5d-40d8-acb8-625fcd445d84",
   "metadata": {},
   "outputs": [],
   "source": [
    "fileset = {\n",
    "    \"DYJetsToLL_Pt-100To250_MatchEWPDG20_TuneCP5_13TeV-amcatnloFXFX-pythia8\": [\"root://xcache//store/mc/RunIISummer20UL17NanoAODv2/DYJetsToLL_Pt-100To250_MatchEWPDG20_TuneCP5_13TeV-amcatnloFXFX-pythia8/NANOAODSIM/106X_mc2017_realistic_v8-v1/240000/A3975393-1AED-B547-8CA2-28B5841C4895.root\"],\n",
    "}"
   ]
  },
  {
   "cell_type": "code",
   "execution_count": 20,
   "id": "a3f414b8-4ade-4e41-98e5-9b55c4407423",
   "metadata": {},
   "outputs": [
    {
     "data": {
      "application/vnd.jupyter.widget-view+json": {
       "model_id": "1ec8807077924cdd8a54cb208aebe59f",
       "version_major": 2,
       "version_minor": 0
      },
      "text/plain": [
       "Output()"
      ]
     },
     "metadata": {},
     "output_type": "display_data"
    },
    {
     "data": {
      "text/html": [
       "<pre style=\"white-space:pre;overflow-x:auto;line-height:normal;font-family:Menlo,'DejaVu Sans Mono',consolas,'Courier New',monospace\">[False False False ... False False False]\n",
       "</pre>\n"
      ],
      "text/plain": [
       "[False False False ... False False False]\n"
      ]
     },
     "metadata": {},
     "output_type": "display_data"
    },
    {
     "data": {
      "text/html": [
       "<pre style=\"white-space:pre;overflow-x:auto;line-height:normal;font-family:Menlo,'DejaVu Sans Mono',consolas,'Courier New',monospace\">[False False False ... False False False]\n",
       "</pre>\n"
      ],
      "text/plain": [
       "[False False False ... False False False]\n"
      ]
     },
     "metadata": {},
     "output_type": "display_data"
    },
    {
     "data": {
      "text/html": [
       "<pre style=\"white-space:pre;overflow-x:auto;line-height:normal;font-family:Menlo,'DejaVu Sans Mono',consolas,'Courier New',monospace\">[False False False ... False False False]\n",
       "</pre>\n"
      ],
      "text/plain": [
       "[False False False ... False False False]\n"
      ]
     },
     "metadata": {},
     "output_type": "display_data"
    },
    {
     "data": {
      "text/html": [
       "<pre style=\"white-space:pre;overflow-x:auto;line-height:normal;font-family:Menlo,'DejaVu Sans Mono',consolas,'Courier New',monospace\">[False False False ... False False False]\n",
       "</pre>\n"
      ],
      "text/plain": [
       "[False False False ... False False False]\n"
      ]
     },
     "metadata": {},
     "output_type": "display_data"
    },
    {
     "data": {
      "text/html": [
       "<pre style=\"white-space:pre;overflow-x:auto;line-height:normal;font-family:Menlo,'DejaVu Sans Mono',consolas,'Courier New',monospace\">[False False False ... False False False]\n",
       "</pre>\n"
      ],
      "text/plain": [
       "[False False False ... False False False]\n"
      ]
     },
     "metadata": {},
     "output_type": "display_data"
    },
    {
     "data": {
      "text/html": [
       "<pre style=\"white-space:pre;overflow-x:auto;line-height:normal;font-family:Menlo,'DejaVu Sans Mono',consolas,'Courier New',monospace\">[False False False ... False False False]\n",
       "</pre>\n"
      ],
      "text/plain": [
       "[False False False ... False False False]\n"
      ]
     },
     "metadata": {},
     "output_type": "display_data"
    },
    {
     "data": {
      "text/html": [
       "<pre style=\"white-space:pre;overflow-x:auto;line-height:normal;font-family:Menlo,'DejaVu Sans Mono',consolas,'Courier New',monospace\"></pre>\n"
      ],
      "text/plain": []
     },
     "metadata": {},
     "output_type": "display_data"
    },
    {
     "data": {
      "text/html": [
       "<pre style=\"white-space:pre;overflow-x:auto;line-height:normal;font-family:Menlo,'DejaVu Sans Mono',consolas,'Courier New',monospace\">\n",
       "</pre>\n"
      ],
      "text/plain": [
       "\n"
      ]
     },
     "metadata": {},
     "output_type": "display_data"
    }
   ],
   "source": [
    "out = processor.run_uproot_job(\n",
    "    fileset,\n",
    "    treename=\"Events\",\n",
    "    processor_instance=BackgroundEstimatorProcessor(),\n",
    "    executor=processor.IterativeExecutor,\n",
    "    executor_args={\n",
    "        \"schema\": processor.NanoAODSchema,\n",
    "    },\n",
    ")"
   ]
  },
  {
   "cell_type": "code",
   "execution_count": 8,
   "id": "38609ed1-aa79-4361-a273-31ee7b903e3e",
   "metadata": {},
   "outputs": [],
   "source": []
  },
  {
   "cell_type": "code",
   "execution_count": 9,
   "id": "c1af417f-fffb-4bac-949a-5a7fb8673301",
   "metadata": {},
   "outputs": [
    {
     "data": {
      "text/plain": [
       "<coffea.lumi_tools.lumi_tools.LumiMask at 0x7fde2624bc40>"
      ]
     },
     "execution_count": 9,
     "metadata": {},
     "output_type": "execute_result"
    }
   ],
   "source": []
  },
  {
   "cell_type": "code",
   "execution_count": null,
   "id": "eb0439de-9528-4fec-bbaa-38145985870a",
   "metadata": {},
   "outputs": [],
   "source": []
  }
 ],
 "metadata": {
  "kernelspec": {
   "display_name": "Python 3 (ipykernel)",
   "language": "python",
   "name": "python3"
  },
  "language_info": {
   "codemirror_mode": {
    "name": "ipython",
    "version": 3
   },
   "file_extension": ".py",
   "mimetype": "text/x-python",
   "name": "python",
   "nbconvert_exporter": "python",
   "pygments_lexer": "ipython3",
   "version": "3.8.13"
  }
 },
 "nbformat": 4,
 "nbformat_minor": 5
}
