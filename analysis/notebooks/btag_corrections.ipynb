{
 "cells": [
  {
   "cell_type": "markdown",
   "id": "28195828-db72-49d5-bd5f-e69ac19d6efe",
   "metadata": {},
   "source": [
    "### In this notebook we show how to implement the btag corrections. "
   ]
  },
  {
   "cell_type": "code",
   "execution_count": 1,
   "id": "811da69a-0b5a-4e52-bc9d-57e0eaa8a195",
   "metadata": {},
   "outputs": [
    {
     "name": "stdout",
     "output_type": "stream",
     "text": [
      "/home/cms-jovyan/wprime_plus_b/analysis\n"
     ]
    }
   ],
   "source": [
    "cd .."
   ]
  },
  {
   "cell_type": "code",
   "execution_count": 2,
   "id": "2f131eb2-1cd5-4bc8-af9b-ee237b900484",
   "metadata": {},
   "outputs": [],
   "source": [
    "import awkward as ak\n",
    "from coffea.nanoevents import NanoEventsFactory, NanoAODSchema"
   ]
  },
  {
   "cell_type": "markdown",
   "id": "c63d67b1-20e9-4bbc-9ec4-64e0ce541810",
   "metadata": {},
   "source": [
    "We'll use some $t \\bar{t}$ semileptonic data in this example"
   ]
  },
  {
   "cell_type": "code",
   "execution_count": 3,
   "id": "63926838-3ab6-4174-bf82-a9643780990c",
   "metadata": {},
   "outputs": [],
   "source": [
    "fname = \"root://xcache//store/mc/RunIISummer20UL17NanoAODv2/TTToSemiLeptonic_TuneCP5_13TeV-powheg-pythia8/NANOAODSIM/106X_mc2017_realistic_v8-v1/120000/2A2F4EC9-F9BB-DF43-B08D-525B5389937E.root\"\n",
    "events = NanoEventsFactory.from_root(fname, schemaclass=NanoAODSchema).events()"
   ]
  },
  {
   "cell_type": "markdown",
   "id": "2565780c-5b4a-451b-882a-5eb99a14ed2a",
   "metadata": {},
   "source": [
    "Let's define our bjets. For 2017 data, the `btagDeepFlavB` is 0.304 for the *Medium* working point (see the `data/btagWPs.json`)"
   ]
  },
  {
   "cell_type": "code",
   "execution_count": 4,
   "id": "4e08da2f-4387-4046-80e5-9775a6da1b33",
   "metadata": {},
   "outputs": [],
   "source": [
    "good_bjets = (\n",
    "    (ak.firsts(events.Jet.pt) > 30)\n",
    "    & (events.Jet.jetId == 6)\n",
    "    & (events.Jet.puId == 7)\n",
    "    & (events.Jet.btagDeepFlavB > 0.304)\n",
    ")\n",
    "\n",
    "bjets = events.Jet[good_bjets]"
   ]
  },
  {
   "cell_type": "markdown",
   "id": "76ed7396-d1e4-4f4d-a464-8a9c83350841",
   "metadata": {},
   "source": [
    "Let's create an instance of the `BTagCorrector` class"
   ]
  },
  {
   "cell_type": "code",
   "execution_count": 5,
   "id": "5215fbc2-af4f-48a1-a374-e71190d1a269",
   "metadata": {},
   "outputs": [
    {
     "data": {
      "text/plain": [
       "\u001b[0;31mInit signature:\u001b[0m\n",
       "\u001b[0mBTagCorrector\u001b[0m\u001b[0;34m(\u001b[0m\u001b[0;34m\u001b[0m\n",
       "\u001b[0;34m\u001b[0m    \u001b[0msf\u001b[0m\u001b[0;34m:\u001b[0m \u001b[0mstr\u001b[0m \u001b[0;34m=\u001b[0m \u001b[0;34m'comb'\u001b[0m\u001b[0;34m,\u001b[0m\u001b[0;34m\u001b[0m\n",
       "\u001b[0;34m\u001b[0m    \u001b[0mwp\u001b[0m\u001b[0;34m:\u001b[0m \u001b[0mstr\u001b[0m \u001b[0;34m=\u001b[0m \u001b[0;34m'M'\u001b[0m\u001b[0;34m,\u001b[0m\u001b[0;34m\u001b[0m\n",
       "\u001b[0;34m\u001b[0m    \u001b[0mtagger\u001b[0m\u001b[0;34m:\u001b[0m \u001b[0mstr\u001b[0m \u001b[0;34m=\u001b[0m \u001b[0;34m'deepJet'\u001b[0m\u001b[0;34m,\u001b[0m\u001b[0;34m\u001b[0m\n",
       "\u001b[0;34m\u001b[0m    \u001b[0myear\u001b[0m\u001b[0;34m:\u001b[0m \u001b[0mstr\u001b[0m \u001b[0;34m=\u001b[0m \u001b[0;34m'2017'\u001b[0m\u001b[0;34m,\u001b[0m\u001b[0;34m\u001b[0m\n",
       "\u001b[0;34m\u001b[0m    \u001b[0mmod\u001b[0m\u001b[0;34m:\u001b[0m \u001b[0mstr\u001b[0m \u001b[0;34m=\u001b[0m \u001b[0;34m''\u001b[0m\u001b[0;34m,\u001b[0m\u001b[0;34m\u001b[0m\n",
       "\u001b[0;34m\u001b[0m\u001b[0;34m)\u001b[0m\u001b[0;34m\u001b[0m\u001b[0;34m\u001b[0m\u001b[0m\n",
       "\u001b[0;31mDocstring:\u001b[0m      <no docstring>\n",
       "\u001b[0;31mInit docstring:\u001b[0m\n",
       "BTag corrector object\n",
       "\n",
       "Parameters:.coffea\n",
       "-----------\n",
       "    sf:\n",
       "        scale factors to use (mujets or comb)\n",
       "    wp:\n",
       "        worging point (L, M or T)\n",
       "    tagger:\n",
       "        tagger (deepJet or deepCSV)\n",
       "    year:\n",
       "        dataset year\n",
       "    mod:\n",
       "        year modifier (\"\" or \"APV\")\n",
       "\u001b[0;31mFile:\u001b[0m           ~/wprime_plus_b/analysis/corrections.py\n",
       "\u001b[0;31mType:\u001b[0m           type\n",
       "\u001b[0;31mSubclasses:\u001b[0m     \n"
      ]
     },
     "metadata": {},
     "output_type": "display_data"
    }
   ],
   "source": [
    "from corrections import BTagCorrector\n",
    "\n",
    "BTagCorrector?"
   ]
  },
  {
   "cell_type": "markdown",
   "id": "5fa56f2d-c4d4-4895-ab08-1474d50d079f",
   "metadata": {},
   "source": [
    "From the [documentation](https://cms-nanoaod-integration.web.cern.ch/commonJSONSFs/BTV_btagging_Run2_UL/BTV_btagging_2017_UL.html):\n",
    "\n",
    "\"For the working point corrections the SFs in 'mujets' and 'comb' are for b/c jets. The 'mujets' SFs contain only corrections derived in QCD-enriched regions. The 'comb' SFs  contain corrections derived in QCD and ttbar-enriched regions. Hence, 'comb' SFs can be used  everywhere, except for ttbar-dileptonic enriched analysis regions. For the ttbar-dileptonic regions the 'mujets' SFs should be used. The 'incl' correction is for light-flavoured jets.\"\n",
    "\n",
    "We'll use the `deepJet_comb` corrections:"
   ]
  },
  {
   "cell_type": "code",
   "execution_count": 6,
   "id": "f54976cc-8081-4c26-b3a4-b8141cbee956",
   "metadata": {},
   "outputs": [],
   "source": [
    "btag = BTagCorrector(sf=\"comb\", wp=\"M\", tagger=\"deepJet\", year=\"2017\")"
   ]
  },
  {
   "cell_type": "markdown",
   "id": "75493d19-ace6-4e29-8a45-d0ffc203f116",
   "metadata": {},
   "source": [
    "The nominal weight is computed as \n",
    "\n",
    "$$\\text{tagged SF} \\times \\text{untagged SF}$$\n",
    "\n",
    "where $\\text{tagged SF}$ and $\\text{tagged SF}$ are defined as \n",
    "\n",
    "$$\n",
    "\\text{tagged SF} = (SF\\times eff) \\; / \\; eff  \\; \\text{for events with} \\; btagDeepFlavB > 0.304\n",
    "$$\n",
    "\n",
    "$$\n",
    "\\text{untagged SF} = (1 - SF\\times eff) \\; / \\; (1 - eff)  \\; \\text{for events with} \\; btagDeepFlavB < 0.304\n",
    "$$\n",
    "\n",
    "where $SF$ is the b-tag Sf and $eff$ is the efficiency SF."
   ]
  },
  {
   "cell_type": "markdown",
   "id": "4499046a-1933-41f0-8d0e-b89473fb1ff0",
   "metadata": {},
   "source": [
    "The b-tag scale factors can be obtained from the `btagSF` method, which takes in the light-flavoured or heavy-flavoured jets and the systematics (\"central\" for nominal weights). In our case we use heavy-flavoured jets (b-jets). We can set the flavour using the `hadronFlavour` field (0 = udsg, 4 = c, 5 = b)"
   ]
  },
  {
   "cell_type": "code",
   "execution_count": 7,
   "id": "9fb699cc-c969-4bb7-b145-ff18e8b0de17",
   "metadata": {},
   "outputs": [
    {
     "data": {
      "text/plain": [
       "<Array [[0.967], [0.962, ... [0.973, 0.967]] type='1280000 * var * float64'>"
      ]
     },
     "execution_count": 7,
     "metadata": {},
     "output_type": "execute_result"
    }
   ],
   "source": [
    "bjets = bjets[(bjets.hadronFlavour > 0) & (abs(bjets.eta) < 2.5)]\n",
    "\n",
    "bSF = btag.btag_SF(bjets, syst=\"central\")\n",
    "bSF"
   ]
  },
  {
   "cell_type": "markdown",
   "id": "88e247b3-ef46-48be-a7a6-f9e2509faabb",
   "metadata": {},
   "source": [
    "We can access the b-tag efficiency lookup table through the `efflookup` attribute"
   ]
  },
  {
   "cell_type": "code",
   "execution_count": 8,
   "id": "a7c8a803-b9e1-40ef-9e2f-c87e282541f9",
   "metadata": {},
   "outputs": [
    {
     "data": {
      "text/plain": [
       "3 dimensional histogram with axes:\n",
       "\t1: [0. 4. 5.]\n",
       "\t2: [ 40.  53.  66.  79.  92. 105. 118. 131. 144. 157. 170. 183. 196. 209.\n",
       " 222. 235. 248. 261. 274. 287. 300.]\n",
       "\t3: [0.    0.625 1.25  1.875 2.5  ]"
      ]
     },
     "execution_count": 8,
     "metadata": {},
     "output_type": "execute_result"
    }
   ],
   "source": [
    "btag.efflookup"
   ]
  },
  {
   "cell_type": "markdown",
   "id": "c500294e-8d22-40ac-b46c-61051bbac364",
   "metadata": {},
   "source": [
    "the axes represent 1: `hadronFlavour`, 2: `pt`, and  3: `eta`"
   ]
  },
  {
   "cell_type": "code",
   "execution_count": 9,
   "id": "f1fe3362-d17e-4b5d-a5a7-c18a73d18747",
   "metadata": {},
   "outputs": [
    {
     "data": {
      "text/plain": [
       "<Array [[0.148], [0.149, ... [0.154, 0.148]] type='1280000 * option[var * float64]'>"
      ]
     },
     "execution_count": 9,
     "metadata": {},
     "output_type": "execute_result"
    }
   ],
   "source": [
    "bEff = btag.efflookup(bjets.hadronFlavour, bjets.pt, abs(bjets.eta))\n",
    "bEff"
   ]
  },
  {
   "cell_type": "markdown",
   "id": "eaed91fc-dae1-4f62-a8f0-9df1a90b418a",
   "metadata": {},
   "source": [
    "Now we can compute $\\text{tagged SF}$, $\\text{untagged SF}$ and the nominal weight"
   ]
  },
  {
   "cell_type": "code",
   "execution_count": 10,
   "id": "d034f4d1-8873-4a32-bf59-3ee1af729349",
   "metadata": {},
   "outputs": [
    {
     "data": {
      "text/plain": [
       "<Array [0.967, 0.924, 1, ... 0.964, 0.942] type='1280000 * ?float64'>"
      ]
     },
     "execution_count": 10,
     "metadata": {},
     "output_type": "execute_result"
    }
   ],
   "source": [
    "bPass = bjets[\"btagDeepFlavB\"] > 0.304\n",
    "\n",
    "tagged_sf = ak.prod(bSF[bPass], axis=-1)\n",
    "tagged_sf"
   ]
  },
  {
   "cell_type": "code",
   "execution_count": 11,
   "id": "f75b5a2a-fe5b-4e83-8bcb-49622d385ea6",
   "metadata": {},
   "outputs": [
    {
     "data": {
      "text/plain": [
       "<Array [1, 1, 1, 1, 1, 1, ... 1, 1, 1, 1, 1, 1] type='1280000 * ?float64'>"
      ]
     },
     "execution_count": 11,
     "metadata": {},
     "output_type": "execute_result"
    }
   ],
   "source": [
    "untagged_sf = ak.prod(((1 - bSF * bEff) / (1 - bEff))[~bPass], axis=-1)\n",
    "untagged_sf"
   ]
  },
  {
   "cell_type": "code",
   "execution_count": 12,
   "id": "82599b96-392d-458c-bbba-96d21a21c454",
   "metadata": {},
   "outputs": [
    {
     "data": {
      "text/plain": [
       "<Array [0.967, 0.924, 1, ... 0.964, 0.942] type='1280000 * float64'>"
      ]
     },
     "execution_count": 12,
     "metadata": {},
     "output_type": "execute_result"
    }
   ],
   "source": [
    "nominal_weight = ak.fill_none(tagged_sf * untagged_sf, 1.0)\n",
    "nominal_weight"
   ]
  },
  {
   "cell_type": "markdown",
   "id": "771df6f0-ad2c-41ee-af6d-3a04b8be9684",
   "metadata": {},
   "source": [
    "This nominal weight can be add to an instance of the `Weights` class, which is the object that allows us to manipulate weights easily and efficiently"
   ]
  },
  {
   "cell_type": "code",
   "execution_count": 13,
   "id": "19942d22-964a-4cc5-bbac-e2d31ec8002f",
   "metadata": {},
   "outputs": [],
   "source": [
    "from coffea.analysis_tools import Weights\n",
    "\n",
    "# instance of the Weights class\n",
    "weights = Weights(len(events), storeIndividual=True)\n",
    "\n",
    "# add nominal btag weight\n",
    "weights.add(name=\"btagSF\", weight=nominal_weight)"
   ]
  },
  {
   "cell_type": "markdown",
   "id": "d455f24c-6950-4532-8064-c2cd39ba79ec",
   "metadata": {},
   "source": [
    "We can acces to the combination of all weights added to `weights` using the `weight` method"
   ]
  },
  {
   "cell_type": "code",
   "execution_count": 14,
   "id": "acde06da-ee57-4a42-9807-b5a6050a8d96",
   "metadata": {},
   "outputs": [
    {
     "data": {
      "text/plain": [
       "array([0.96706041, 0.92435078, 1.        , ..., 0.9664197 , 0.96360567,\n",
       "       0.94176765])"
      ]
     },
     "execution_count": 14,
     "metadata": {},
     "output_type": "execute_result"
    }
   ],
   "source": [
    "weights.weight()"
   ]
  },
  {
   "cell_type": "markdown",
   "id": "1430da3d-2299-4ba1-9a21-fe6d30c9c6f6",
   "metadata": {},
   "source": [
    "We can access an individual weight or a subset of the weights added to `weights` using the `partial_weight` method, indicating the weights that we want to include in the selection (this is only possible if we set `storeIndividual=True`)"
   ]
  },
  {
   "cell_type": "code",
   "execution_count": 15,
   "id": "3e7e836e-492f-4728-a0fe-5a5cec4716b3",
   "metadata": {},
   "outputs": [
    {
     "data": {
      "text/plain": [
       "array([0.96706041, 0.92435078, 1.        , ..., 0.9664197 , 0.96360567,\n",
       "       0.94176765])"
      ]
     },
     "execution_count": 15,
     "metadata": {},
     "output_type": "execute_result"
    }
   ],
   "source": [
    "weights.partial_weight(include=[\"btagSF\"])"
   ]
  },
  {
   "cell_type": "markdown",
   "id": "6e955b96-59bc-4e37-b001-45b6c4a12093",
   "metadata": {},
   "source": [
    "Alternatively, we can use the `add_btag_weight` method to add the btag SF to the weights"
   ]
  },
  {
   "cell_type": "code",
   "execution_count": 16,
   "id": "8838f7b1-2feb-4b31-b324-8806dde92f30",
   "metadata": {},
   "outputs": [
    {
     "data": {
      "text/plain": [
       "\u001b[0;31mSignature:\u001b[0m\n",
       "\u001b[0mbtag\u001b[0m\u001b[0;34m.\u001b[0m\u001b[0madd_btag_weight\u001b[0m\u001b[0;34m(\u001b[0m\u001b[0;34m\u001b[0m\n",
       "\u001b[0;34m\u001b[0m    \u001b[0mjets\u001b[0m\u001b[0;34m:\u001b[0m \u001b[0mawkward\u001b[0m\u001b[0;34m.\u001b[0m\u001b[0mhighlevel\u001b[0m\u001b[0;34m.\u001b[0m\u001b[0mArray\u001b[0m\u001b[0;34m,\u001b[0m\u001b[0;34m\u001b[0m\n",
       "\u001b[0;34m\u001b[0m    \u001b[0mweights\u001b[0m\u001b[0;34m:\u001b[0m \u001b[0mType\u001b[0m\u001b[0;34m[\u001b[0m\u001b[0mcoffea\u001b[0m\u001b[0;34m.\u001b[0m\u001b[0manalysis_tools\u001b[0m\u001b[0;34m.\u001b[0m\u001b[0mWeights\u001b[0m\u001b[0;34m]\u001b[0m\u001b[0;34m,\u001b[0m\u001b[0;34m\u001b[0m\n",
       "\u001b[0;34m\u001b[0m\u001b[0;34m)\u001b[0m\u001b[0;34m\u001b[0m\u001b[0;34m\u001b[0m\u001b[0m\n",
       "\u001b[0;31mDocstring:\u001b[0m\n",
       "Adding SF\n",
       "\n",
       "Parameters:\n",
       "-----------\n",
       "    jets:\n",
       "        jets selected in your analysis\n",
       "    weights:\n",
       "        Weights object from coffea.analysis_tools\n",
       "\u001b[0;31mFile:\u001b[0m      ~/wprime_plus_b/analysis/corrections.py\n",
       "\u001b[0;31mType:\u001b[0m      method\n"
      ]
     },
     "metadata": {},
     "output_type": "display_data"
    }
   ],
   "source": [
    "btag.add_btag_weight?"
   ]
  },
  {
   "cell_type": "code",
   "execution_count": 17,
   "id": "109a7ba5-ca0d-47a6-b223-0ddf0c7f8b62",
   "metadata": {},
   "outputs": [],
   "source": [
    "# bjets\n",
    "good_bjets = (\n",
    "    (ak.firsts(events.Jet.pt) > 30)\n",
    "    & (events.Jet.jetId == 6)\n",
    "    & (events.Jet.puId == 7)\n",
    "    & (events.Jet.btagDeepFlavB > 0.304)\n",
    ")\n",
    "bjets = events.Jet[good_bjets]\n",
    "\n",
    "# instance of the Weights class\n",
    "weights = Weights(len(events), storeIndividual=True)\n",
    "\n",
    "# add nominal weight to weights\n",
    "btag = BTagCorrector(sf=\"comb\", wp=\"M\", tagger=\"deepJet\", year=\"2017\")\n",
    "btag.add_btag_weight(jets=bjets, weights=weights)"
   ]
  },
  {
   "cell_type": "code",
   "execution_count": 18,
   "id": "fd0eecf8-9e69-41c9-bcfe-48564e852217",
   "metadata": {},
   "outputs": [
    {
     "data": {
      "text/plain": [
       "array([0.96706041, 0.92435078, 1.        , ..., 0.9664197 , 0.96360567,\n",
       "       0.94176765])"
      ]
     },
     "execution_count": 18,
     "metadata": {},
     "output_type": "execute_result"
    }
   ],
   "source": [
    "weights.weight()"
   ]
  },
  {
   "cell_type": "code",
   "execution_count": null,
   "id": "f8a2294e-e673-416f-8917-12fb1b55bf40",
   "metadata": {},
   "outputs": [],
   "source": []
  }
 ],
 "metadata": {
  "kernelspec": {
   "display_name": "Python 3 (ipykernel)",
   "language": "python",
   "name": "python3"
  },
  "language_info": {
   "codemirror_mode": {
    "name": "ipython",
    "version": 3
   },
   "file_extension": ".py",
   "mimetype": "text/x-python",
   "name": "python",
   "nbconvert_exporter": "python",
   "pygments_lexer": "ipython3",
   "version": "3.8.13"
  }
 },
 "nbformat": 4,
 "nbformat_minor": 5
}
