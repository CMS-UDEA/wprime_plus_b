{
 "cells": [
  {
   "cell_type": "code",
   "execution_count": 30,
   "id": "8a10bac2-4ee0-4357-a6d8-c33b6f846838",
   "metadata": {},
   "outputs": [],
   "source": [
    "import json\n",
    "import correctionlib\n",
    "import numpy as np\n",
    "import awkward as ak\n",
    "from coffea import processor\n",
    "from coffea.analysis_tools import Weights"
   ]
  },
  {
   "cell_type": "code",
   "execution_count": 31,
   "id": "1ab8091c-2f48-4809-a287-3cde2e4eaf54",
   "metadata": {},
   "outputs": [],
   "source": [
    "\"\"\"\n",
    "CorrectionLib files are available from: /cvmfs/cms.cern.ch/rsync/cms-nanoAOD/jsonpog-integration - synced daily\n",
    "\"\"\"\n",
    "pog_correction_path = \"/cvmfs/cms.cern.ch/rsync/cms-nanoAOD/jsonpog-integration/\"\n",
    "pog_jsons = {\n",
    "    \"pileup\": [\"LUM\", \"puWeights.json.gz\"],\n",
    "}\n",
    "\n",
    "def get_UL_year(year):\n",
    "    if year == \"2016\":\n",
    "        year = \"2016postVFP\"\n",
    "    elif year == \"2016APV\":\n",
    "        year = \"2016preVFP\"\n",
    "    return f\"{year}_UL\"\n",
    "\n",
    "def get_pog_json(obj, year):\n",
    "    try:\n",
    "        pog_json = pog_jsons[obj]\n",
    "    except:\n",
    "        print(f'No json for {obj}')\n",
    "    year = get_UL_year(year)\n",
    "    return f\"{pog_correction_path}POG/{pog_json[0]}/{year}/{pog_json[1]}\"\n",
    "\n",
    "def add_pileup_weight(weights, year, mod, nPU):\n",
    "    \"\"\"\n",
    "    https://cms-nanoaod-integration.web.cern.ch/commonJSONSFs/LUMI_puWeights_Run2_UL/\n",
    "    \"\"\"\n",
    "    cset = correctionlib.CorrectionSet.from_file(get_pog_json(\"pileup\", year + mod))\n",
    "\n",
    "    year_to_corr = {\n",
    "        '2016': 'Collisions16_UltraLegacy_goldenJSON',\n",
    "        '2017': 'Collisions17_UltraLegacy_goldenJSON',\n",
    "        '2018': 'Collisions18_UltraLegacy_goldenJSON',\n",
    "    }\n",
    "\n",
    "    values = {}\n",
    "    values[\"nominal\"] = cset[year_to_corr[year]].evaluate(nPU, \"nominal\")\n",
    "    values[\"up\"] = cset[year_to_corr[year]].evaluate(nPU, \"up\")\n",
    "    values[\"down\"] = cset[year_to_corr[year]].evaluate(nPU, \"down\")\n",
    "\n",
    "    weights.add(\"pileup\", values[\"nominal\"], values[\"up\"], values[\"down\"])"
   ]
  },
  {
   "cell_type": "code",
   "execution_count": 32,
   "id": "3e3c9fe4-0051-47ec-803f-7e4dce8a59d3",
   "metadata": {},
   "outputs": [],
   "source": [
    "class BackgroundEstimatorProcessor(processor.ProcessorABC):\n",
    "    def __init__(\n",
    "        self, \n",
    "        year: str = \"2017\", \n",
    "        yearmod: str = \"\",\n",
    "    ):\n",
    "        self._year = year\n",
    "        self._yearmod = yearmod\n",
    "        \n",
    "    @property\n",
    "    def accumulator(self):\n",
    "        return self._accumulator\n",
    "    \n",
    "    def process(self, events: ak.Array):\n",
    "        \"\"\"Returns skimmed events which pass preselection cuts and with the branches listed in self._skimvars\"\"\"  \n",
    "        # weights initializer\n",
    "        self.weights = Weights(len(events), storeIndividual=True)\n",
    "        \n",
    "        # save weights for MC data\n",
    "        self.isMC = hasattr(events, \"genWeight\")\n",
    "        if self.isMC:\n",
    "            # gen weight\n",
    "            self.weights.add(\"genweight\", events.genWeight)\n",
    "            \n",
    "            # l1prefiring weight\n",
    "            # WHAT ABOUT 2018? \n",
    "            if self._year in (\"2016\", \"2017\"):\n",
    "                self.weights.add(\n",
    "                    \"L1Prefiring\", events.L1PreFiringWeight.Nom, events.L1PreFiringWeight.Up, events.L1PreFiringWeight.Dn\n",
    "                )\n",
    "                \n",
    "            # pileup weight\n",
    "            add_pileup_weight(self.weights, self._year, self._yearmod, nPU=ak.to_numpy(events.Pileup.nPU))\n",
    "            \n",
    "            weigths = {}\n",
    "            weigths[\"genweight\"] = self.weights.partial_weight(include=[\"genweight\"])\n",
    "            weigths[\"L1Prefiring\"] = self.weights.partial_weight(include=[\"L1Prefiring\"])\n",
    "            weigths[\"pileup\"] = self.weights.partial_weight(include=[\"pileup\"])\n",
    "            weigths[\"common\"] = self.weights.partial_weight(include=[\"genweight\", \"L1Prefiring\", \"pileup\"])\n",
    "            \n",
    "        return weigths\n",
    "            \n",
    "    def postprocess(self, accumulator):\n",
    "        return accumulator"
   ]
  },
  {
   "cell_type": "code",
   "execution_count": 33,
   "id": "78c600b2-7d5d-40d8-acb8-625fcd445d84",
   "metadata": {},
   "outputs": [],
   "source": [
    "fileset = {\n",
    "    \"DYJetsToLL_Pt-100To250_MatchEWPDG20_TuneCP5_13TeV-amcatnloFXFX-pythia8\": [\"root://xcache//store/mc/RunIISummer20UL17NanoAODv2/DYJetsToLL_Pt-100To250_MatchEWPDG20_TuneCP5_13TeV-amcatnloFXFX-pythia8/NANOAODSIM/106X_mc2017_realistic_v8-v1/240000/A3975393-1AED-B547-8CA2-28B5841C4895.root\"],\n",
    "}"
   ]
  },
  {
   "cell_type": "code",
   "execution_count": 34,
   "id": "a3f414b8-4ade-4e41-98e5-9b55c4407423",
   "metadata": {},
   "outputs": [
    {
     "data": {
      "application/vnd.jupyter.widget-view+json": {
       "model_id": "cdd42dd02dbe4cd0abde082ed023b0eb",
       "version_major": 2,
       "version_minor": 0
      },
      "text/plain": [
       "Output()"
      ]
     },
     "metadata": {},
     "output_type": "display_data"
    },
    {
     "data": {
      "text/html": [
       "<pre style=\"white-space:pre;overflow-x:auto;line-height:normal;font-family:Menlo,'DejaVu Sans Mono',consolas,'Courier New',monospace\"></pre>\n"
      ],
      "text/plain": []
     },
     "metadata": {},
     "output_type": "display_data"
    },
    {
     "data": {
      "text/html": [
       "<pre style=\"white-space:pre;overflow-x:auto;line-height:normal;font-family:Menlo,'DejaVu Sans Mono',consolas,'Courier New',monospace\">\n",
       "</pre>\n"
      ],
      "text/plain": [
       "\n"
      ]
     },
     "metadata": {},
     "output_type": "display_data"
    }
   ],
   "source": [
    "out = processor.run_uproot_job(\n",
    "    fileset,\n",
    "    treename=\"Events\",\n",
    "    processor_instance=BackgroundEstimatorProcessor(),\n",
    "    executor=processor.IterativeExecutor,\n",
    "    executor_args={\n",
    "        \"schema\": processor.NanoAODSchema,\n",
    "    },\n",
    ")"
   ]
  },
  {
   "cell_type": "code",
   "execution_count": 35,
   "id": "27c81a8f-097d-45b9-a0e9-00be277057f7",
   "metadata": {},
   "outputs": [
    {
     "data": {
      "text/plain": [
       "{'genweight': array([1137.05895996, 1137.05895996, 3411.17687988, ..., 1137.05895996,\n",
       "        1137.05895996, 2274.11791992]),\n",
       " 'common': array([ 935.65991067,  895.94746514, 3218.94532182, ...,  989.14313957,\n",
       "         841.57688582, 2101.3717697 ]),\n",
       " 'L1Prefiring': array([4.87387884, 5.39471781, 5.72314876, ..., 5.80820811, 5.39434707,\n",
       "        4.92705172]),\n",
       " 'pileup': array([5.88948196, 5.75624723, 5.94009577, ..., 6.13647971, 5.93715912,\n",
       "        6.12800179])}"
      ]
     },
     "execution_count": 35,
     "metadata": {},
     "output_type": "execute_result"
    }
   ],
   "source": [
    "out"
   ]
  },
  {
   "cell_type": "code",
   "execution_count": null,
   "id": "60f2efe4-3f60-44bc-b666-63db8fdc9b8c",
   "metadata": {},
   "outputs": [],
   "source": []
  }
 ],
 "metadata": {
  "kernelspec": {
   "display_name": "Python 3 (ipykernel)",
   "language": "python",
   "name": "python3"
  },
  "language_info": {
   "codemirror_mode": {
    "name": "ipython",
    "version": 3
   },
   "file_extension": ".py",
   "mimetype": "text/x-python",
   "name": "python",
   "nbconvert_exporter": "python",
   "pygments_lexer": "ipython3",
   "version": "3.8.13"
  }
 },
 "nbformat": 4,
 "nbformat_minor": 5
}
