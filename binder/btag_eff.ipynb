{
 "cells": [
  {
   "cell_type": "code",
   "execution_count": 1,
   "id": "23f22b9a-8398-4345-9a8f-30a1aca143f1",
   "metadata": {
    "tags": []
   },
   "outputs": [],
   "source": [
    "import pickle\n",
    "import glob\n",
    "import numpy as np\n",
    "from coffea import processor\n",
    "from coffea import util\n",
    "from coffea.lookup_tools.dense_lookup import dense_lookup"
   ]
  },
  {
   "cell_type": "code",
   "execution_count": 2,
   "id": "557d6107-61aa-421e-9db3-678be2cb2ffb",
   "metadata": {
    "tags": []
   },
   "outputs": [
    {
     "data": {
      "text/plain": [
       "{'WJetsToLNu_HT-200To400': {'sumw': 42400348.0,\n",
       "  'eff_hist': Hist(\n",
       "    Regular(20, 20, 500, name='pt'),\n",
       "    Regular(4, 0, 2.5, name='abseta'),\n",
       "    IntCategory([0, 4, 5], name='flavor'),\n",
       "    Regular(2, 0, 2, name='passWP'),\n",
       "    storage=Weight()) # Sum: WeightedSum(value=1.5212e+08, variance=1.5212e+08) (WeightedSum(value=1.52121e+08, variance=1.52121e+08) with flow)}}"
      ]
     },
     "execution_count": 2,
     "metadata": {},
     "output_type": "execute_result"
    }
   ],
   "source": [
    "# folder with b_tag_efficiency_processor output files\n",
    "output_histograms = \"/home/cms-jovyan/wprime_plus_b/outfiles/2023-04-12/btag_eff/2017/mu\"\n",
    "\n",
    "# load btag efficiency processor outputs \n",
    "outputs = []\n",
    "for file in glob.glob(f\"{output_histograms}/*.pkl\"):\n",
    "    with open(file, \"rb\") as f:\n",
    "        outputs.append(pickle.load(f))\n",
    "        \n",
    "outputs[0]"
   ]
  },
  {
   "cell_type": "code",
   "execution_count": 3,
   "id": "433403c6-4f3a-4011-a77c-7199a1a36f5b",
   "metadata": {
    "tags": []
   },
   "outputs": [
    {
     "data": {
      "text/plain": [
       "Hist(\n",
       "  Regular(20, 20, 500, name='pt'),\n",
       "  Regular(4, 0, 2.5, name='abseta'),\n",
       "  IntCategory([0, 4, 5], name='flavor'),\n",
       "  storage=Weight()) # Sum: WeightedSum(value=266.872, variance=2.48409e+08) (WeightedSum(value=1197.23, variance=2.48439e+08) with flow)"
      ]
     },
     "execution_count": 3,
     "metadata": {},
     "output_type": "execute_result"
    }
   ],
   "source": [
    "LUMI = 41477.877399\n",
    "XSECS = {\n",
    "    \"TTTo2L2Nu\": 88.29,\n",
    "    \"TTToHadronic\": 377.96,\n",
    "    \"TTToSemiLeptonic\": 365.34,\n",
    "    \"ST_s-channel_4f_leptonDecays\": 3.549,\n",
    "    \"ST_t-channel_antitop_4f_InclusiveDecays\": 69.09,\n",
    "    \"ST_t-channel_antitop_5f_InclusiveDecays\": 71.74,\n",
    "    \"ST_t-channel_top_4f_InclusiveDecays\": 115.3,\n",
    "    \"ST_t-channel_top_5f_InclusiveDecays\": 119.7,\n",
    "    \"ST_tW_antitop_5f_inclusiveDecays\": 34.97,\n",
    "    \"ST_tW_top_5f_inclusiveDecays\": 34.91,\n",
    "    \"WJetsToLNu_HT-100To200\": 1395,\n",
    "    \"WJetsToLNu_HT-200To400\": 407.9,\n",
    "    \"WJetsToLNu_HT-400To600\": 57.48,\n",
    "    \"WJetsToLNu_HT-600To800\": 12.87,\n",
    "    \"WJetsToLNu_HT-800To1200\": 5.366,\n",
    "    \"WJetsToLNu_HT-1200To2500\": 1.074,\n",
    "    \"WJetsToLNu_HT-2500ToInf\": 0.008001,\n",
    "    \"DYJetsToLL_M-50_HT-100to200\": 160.7,\n",
    "    \"DYJetsToLL_M-50_HT-200to400\": 48.63,\n",
    "    \"DYJetsToLL_M-50_HT-400to600\": 6.993,\n",
    "    \"DYJetsToLL_M-50_HT-600to800\": 1.761,\n",
    "    \"DYJetsToLL_M-50_HT-800to1200\": 0.8021,\n",
    "    \"DYJetsToLL_M-50_HT-1200to2500\": 0.1937,\n",
    "    \"DYJetsToLL_M-50_HT-2500toInf\": 0.003514,\n",
    "    \"WW\": 75.95,\n",
    "    \"WZ\": 27.59,\n",
    "    \"ZZ\": 12.17 \n",
    "}\n",
    "\n",
    "effs = []\n",
    "for out in outputs:\n",
    "    for dataset, values in out.items():\n",
    "        # select eff histogram\n",
    "        eff_hist = values[\"eff_hist\"] \n",
    "        \n",
    "        # since weighted histograms can't be divided as eff_hist[{\"passWP\": True}] / eff_hist[{\"passWP\": sum}]\n",
    "        # we compute the efficiency using the underlying numpy arrays\n",
    "        eff = eff_hist[{'passWP':sum}].copy() # Making a copy of the histogram without the 'passWP' axis\n",
    "        num = eff_hist[{\"passWP\": True}].view(flow=True)['value']\n",
    "        den = eff_hist[{\"passWP\": sum}].view(flow=True)['value']\n",
    "        eff.view(flow=True)['value'] = np.divide(num, den, out=np.ones_like(num * den) * 1.0, where=den != 0) # to avoid nan values\n",
    "        \n",
    "        # apply the appropriate cross section/effective lumi weightings\n",
    "        weight = (XSECS[dataset] * LUMI) / values[\"sumw\"]\n",
    "        effs.append(eff * weight)\n",
    "        \n",
    "# accumulate histograms \n",
    "effs = processor.accumulate(effs)\n",
    "effs"
   ]
  },
  {
   "cell_type": "markdown",
   "id": "720a26cb-9ddf-4bdc-a3e9-dd2da02ac0ce",
   "metadata": {},
   "source": [
    "The `flow=True` arguments ensures that efficiencies are also calculated for the overflow and underflow bins if they are needed."
   ]
  },
  {
   "cell_type": "code",
   "execution_count": 4,
   "id": "71e59516-05c9-4ae8-9bc4-90a537575fe0",
   "metadata": {
    "tags": []
   },
   "outputs": [
    {
     "data": {
      "text/plain": [
       "3 dimensional histogram with axes:\n",
       "\t1: [ 20.  44.  68.  92. 116. 140. 164. 188. 212. 236. 260. 284. 308. 332.\n",
       " 356. 380. 404. 428. 452. 476. 500.]\n",
       "\t2: [0.    0.625 1.25  1.875 2.5  ]\n",
       "\t3: [0. 1. 2. 3.]"
      ]
     },
     "execution_count": 4,
     "metadata": {},
     "output_type": "execute_result"
    }
   ],
   "source": [
    "# create lookup table from the efficiency histogram\n",
    "efflookup = dense_lookup(effs.values(), [ax.edges for ax in effs.axes])  \n",
    "efflookup"
   ]
  },
  {
   "cell_type": "code",
   "execution_count": 5,
   "id": "3f518952-b8b2-4db7-b62e-5b56a3c63040",
   "metadata": {
    "tags": []
   },
   "outputs": [
    {
     "data": {
      "text/plain": [
       "array([0.0894443 , 0.60543691, 2.43813612])"
      ]
     },
     "execution_count": 5,
     "metadata": {},
     "output_type": "execute_result"
    }
   ],
   "source": [
    "# Efficiency at 43 GeV, |eta|=0.2, for light, c, and b quark respectively\n",
    "efflookup(43, 0.1, np.array([0, 1, 2]))"
   ]
  },
  {
   "cell_type": "markdown",
   "id": "eaf25451-ec78-41e5-adbf-a15e83091618",
   "metadata": {
    "tags": []
   },
   "source": [
    "Notice that hadron flavours (0, 4, 5) turn into (0, 1, 2). "
   ]
  },
  {
   "cell_type": "code",
   "execution_count": 6,
   "id": "9111ddb8-4889-45c5-9e6b-054a7d34dd58",
   "metadata": {
    "tags": []
   },
   "outputs": [
    {
     "data": {
      "text/plain": [
       "3 dimensional histogram with axes:\n",
       "\t1: [ 20.  44.  68.  92. 116. 140. 164. 188. 212. 236. 260. 284. 308. 332.\n",
       " 356. 380. 404. 428. 452. 476. 500.]\n",
       "\t2: [0.    0.625 1.25  1.875 2.5  ]\n",
       "\t3: [0. 4. 5. 6.]"
      ]
     },
     "execution_count": 6,
     "metadata": {},
     "output_type": "execute_result"
    }
   ],
   "source": [
    "efflookup._axes[-1] = np.array([0., 4., 5., 6.]) # change (0, 1, 2) to (0, 4, 5)\n",
    "efflookup"
   ]
  },
  {
   "cell_type": "code",
   "execution_count": 7,
   "id": "0c7ede22-61f3-434d-89e2-81495ec568a7",
   "metadata": {
    "tags": []
   },
   "outputs": [
    {
     "data": {
      "text/plain": [
       "array([0.0894443 , 0.60543691, 2.43813612])"
      ]
     },
     "execution_count": 7,
     "metadata": {},
     "output_type": "execute_result"
    }
   ],
   "source": [
    "# Efficiency at 43 GeV, |eta|=0.2, for light, c, and b quark respectively\n",
    "efflookup(43, 0.1, np.array([0, 4, 5]))"
   ]
  },
  {
   "cell_type": "code",
   "execution_count": 8,
   "id": "3ac3b135-9fae-4241-afb4-f16de7b0094f",
   "metadata": {
    "tags": []
   },
   "outputs": [],
   "source": [
    "# save lookup table\n",
    "output_path = f\"/home/cms-jovyan/wprime_plus_b/wprime_plus_b/data/btag_eff_deepJet_M_2017.coffea\"\n",
    "util.save(efflookup, output_path)"
   ]
  }
 ],
 "metadata": {
  "kernelspec": {
   "display_name": "Python 3 (ipykernel)",
   "language": "python",
   "name": "python3"
  },
  "language_info": {
   "codemirror_mode": {
    "name": "ipython",
    "version": 3
   },
   "file_extension": ".py",
   "mimetype": "text/x-python",
   "name": "python",
   "nbconvert_exporter": "python",
   "pygments_lexer": "ipython3",
   "version": "3.8.16"
  }
 },
 "nbformat": 4,
 "nbformat_minor": 5
}
