{
 "cells": [
  {
   "cell_type": "code",
   "execution_count": 1,
   "id": "23f22b9a-8398-4345-9a8f-30a1aca143f1",
   "metadata": {
    "tags": []
   },
   "outputs": [],
   "source": [
    "import pickle\n",
    "import glob\n",
    "import numpy as np\n",
    "from coffea import processor\n",
    "from coffea import util\n",
    "from coffea.lookup_tools.dense_lookup import dense_lookup"
   ]
  },
  {
   "cell_type": "code",
   "execution_count": 2,
   "id": "557d6107-61aa-421e-9db3-678be2cb2ffb",
   "metadata": {
    "tags": []
   },
   "outputs": [],
   "source": [
    "# folder with b_tag_efficiency_processor output files\n",
    "output_histograms = \"...\"\n",
    "\n",
    "# load btag efficiency processor outputs \n",
    "histograms = []\n",
    "for file in glob.glob(f\"{output_histograms}/*.pkl\"):\n",
    "    with open(file, \"rb\") as f:\n",
    "        histograms.append(pickle.load(f))"
   ]
  },
  {
   "cell_type": "code",
   "execution_count": 3,
   "id": "cfd66bac-ee0e-48bd-b3ce-4be456bb4872",
   "metadata": {
    "tags": []
   },
   "outputs": [
    {
     "data": {
      "text/plain": [
       "Hist(\n",
       "  Regular(20, 20, 500, name='pt'),\n",
       "  Regular(4, 0, 2.5, name='abseta', label='Jet abseta'),\n",
       "  IntCategory([0, 4, 5], name='flavor'),\n",
       "  Regular(2, 0, 2, name='passWP'),\n",
       "  storage=Double()) # Sum: 5568759449.0 (5597749609.0 with flow)"
      ]
     },
     "execution_count": 3,
     "metadata": {},
     "output_type": "execute_result"
    }
   ],
   "source": [
    "# accumulate all histograms\n",
    "acc_histograms = processor.accumulate(histograms)\n",
    "acc_histograms"
   ]
  },
  {
   "cell_type": "code",
   "execution_count": 4,
   "id": "54ac6f00-b479-4a58-88e1-1e13c5eb378f",
   "metadata": {
    "tags": []
   },
   "outputs": [
    {
     "data": {
      "text/plain": [
       "Hist(\n",
       "  Regular(20, 20, 500, name='pt'),\n",
       "  Regular(4, 0, 2.5, name='abseta', label='Jet abseta'),\n",
       "  IntCategory([0, 4, 5], name='flavor'),\n",
       "  storage=Double()) # Sum: 80.93964809907604 (nan with flow)"
      ]
     },
     "execution_count": 4,
     "metadata": {},
     "output_type": "execute_result"
    }
   ],
   "source": [
    "# compute efficiencies \n",
    "eff = acc_histograms[{\"passWP\": True}] / acc_histograms[{\"passWP\": sum}]\n",
    "eff"
   ]
  },
  {
   "cell_type": "code",
   "execution_count": 5,
   "id": "ffccc6b5-3396-47c8-ae1b-ccb5697072a9",
   "metadata": {
    "tags": []
   },
   "outputs": [
    {
     "data": {
      "text/plain": [
       "3 dimensional histogram with axes:\n",
       "\t1: [ 20.  44.  68.  92. 116. 140. 164. 188. 212. 236. 260. 284. 308. 332.\n",
       " 356. 380. 404. 428. 452. 476. 500.]\n",
       "\t2: [0.    0.625 1.25  1.875 2.5  ]\n",
       "\t3: [0. 1. 2. 3.]"
      ]
     },
     "execution_count": 5,
     "metadata": {},
     "output_type": "execute_result"
    }
   ],
   "source": [
    "# create lookup table\n",
    "efflookup = dense_lookup(eff.values(), [ax.edges for ax in eff.axes])\n",
    "efflookup"
   ]
  },
  {
   "cell_type": "markdown",
   "id": "cd8fc41f-4732-4cb2-899d-66ea16fd41b6",
   "metadata": {
    "tags": []
   },
   "source": [
    "Note that hadron flavours (0, 4, 5) turn into (0, 1, 2). "
   ]
  },
  {
   "cell_type": "code",
   "execution_count": 6,
   "id": "f4b10b35-e693-4530-bda8-1a6f1dc5c869",
   "metadata": {
    "tags": []
   },
   "outputs": [
    {
     "data": {
      "text/plain": [
       "array([0.02550582, 0.19399992, 0.78824355])"
      ]
     },
     "execution_count": 6,
     "metadata": {},
     "output_type": "execute_result"
    }
   ],
   "source": [
    "# Efficiency at 43 GeV, |eta|=0.2, for light, c, and b quark respectively\n",
    "efflookup(43, 0.1, np.array([0, 1, 2]))"
   ]
  },
  {
   "cell_type": "markdown",
   "id": "dc480be2-038c-44d5-b44d-ec90f5a12116",
   "metadata": {
    "tags": []
   },
   "source": [
    "Let's redefine the flavor axis to have the original flavour values"
   ]
  },
  {
   "cell_type": "code",
   "execution_count": 7,
   "id": "931791e6-6985-446e-9ca5-5d1e5a3b857b",
   "metadata": {
    "tags": []
   },
   "outputs": [
    {
     "data": {
      "text/plain": [
       "3 dimensional histogram with axes:\n",
       "\t1: [ 20.  44.  68.  92. 116. 140. 164. 188. 212. 236. 260. 284. 308. 332.\n",
       " 356. 380. 404. 428. 452. 476. 500.]\n",
       "\t2: [0.    0.625 1.25  1.875 2.5  ]\n",
       "\t3: [0. 4. 5. 6.]"
      ]
     },
     "execution_count": 7,
     "metadata": {},
     "output_type": "execute_result"
    }
   ],
   "source": [
    "efflookup._axes[-1] = np.array([0., 4., 5., 6.])\n",
    "efflookup"
   ]
  },
  {
   "cell_type": "code",
   "execution_count": 8,
   "id": "4d1271b3-4fe8-433a-9ffd-b7dd659b2a39",
   "metadata": {
    "tags": []
   },
   "outputs": [
    {
     "data": {
      "text/plain": [
       "array([0.02550582, 0.19399992, 0.78824355])"
      ]
     },
     "execution_count": 8,
     "metadata": {},
     "output_type": "execute_result"
    }
   ],
   "source": [
    "# Efficiency at 43 GeV, |eta|=0.2, for light, c, and b quark respectively\n",
    "efflookup(43, 0.1, np.array([0, 4, 5]))"
   ]
  },
  {
   "cell_type": "code",
   "execution_count": 9,
   "id": "a6478791-906c-4934-a5d8-651f1ec08737",
   "metadata": {
    "tags": []
   },
   "outputs": [],
   "source": [
    "# save lookup table\n",
    "output_path = \"...\"\n",
    "util.save(efflookup, f\"{output_path}/btag_eff_deepJet_M_2017.coffea\")"
   ]
  }
 ],
 "metadata": {
  "kernelspec": {
   "display_name": "Python 3 (ipykernel)",
   "language": "python",
   "name": "python3"
  },
  "language_info": {
   "codemirror_mode": {
    "name": "ipython",
    "version": 3
   },
   "file_extension": ".py",
   "mimetype": "text/x-python",
   "name": "python",
   "nbconvert_exporter": "python",
   "pygments_lexer": "ipython3",
   "version": "3.8.16"
  }
 },
 "nbformat": 4,
 "nbformat_minor": 5
}
