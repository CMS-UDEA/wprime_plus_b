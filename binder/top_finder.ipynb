{
 "cells": [
  {
   "cell_type": "markdown",
   "id": "560f023c-83f5-4c45-9529-df12f26fa207",
   "metadata": {},
   "source": [
    "### top-tagging example using columnar tools"
   ]
  },
  {
   "cell_type": "code",
   "execution_count": 1,
   "id": "390f59ad-4efc-4a5b-a57a-84c15c49fdf7",
   "metadata": {
    "tags": []
   },
   "outputs": [],
   "source": [
    "import hist\n",
    "import numpy as np\n",
    "import awkward as ak\n",
    "from coffea.analysis_tools import PackedSelection\n",
    "from coffea.nanoevents import NanoEventsFactory, NanoAODSchema\n",
    "from wprime_plus_b.corrections.jec import jet_corrections\n",
    "from wprime_plus_b.corrections.met import met_phi_corrections"
   ]
  },
  {
   "cell_type": "code",
   "execution_count": 2,
   "id": "3294473f-3b31-4188-8d9c-2555d58c612a",
   "metadata": {
    "tags": []
   },
   "outputs": [],
   "source": [
    "# deepJet tagger threshold\n",
    "btag_wp = 0.3  # medium working point (2017)\n",
    "\n",
    "# load events using the NanoAOD schema\n",
    "events = NanoEventsFactory.from_root(\"TTToSemiLeptonic.root\", schemaclass=NanoAODSchema).events()\n",
    "nevents = len(events)"
   ]
  },
  {
   "cell_type": "markdown",
   "id": "0032bd0d-37b6-47e9-a7f6-f5fd06f99c2f",
   "metadata": {
    "tags": []
   },
   "source": [
    "#### event preselection"
   ]
  },
  {
   "cell_type": "code",
   "execution_count": 3,
   "id": "a96c2614-8988-45c9-b626-0871ee11d901",
   "metadata": {
    "tags": []
   },
   "outputs": [],
   "source": [
    "# select good electrons\n",
    "good_electrons = (\n",
    "    (events.Electron.pt >= 30)\n",
    "    & (np.abs(events.Electron.eta) < 2.4)\n",
    "    & ((np.abs(events.Electron.eta) < 1.44) | (np.abs(events.Electron.eta) > 1.57))\n",
    "    & (events.Electron.mvaFall17V2Iso_WP90)\n",
    "    & (\n",
    "        events.Electron.pfRelIso04_all < 0.25\n",
    "        if hasattr(events.Electron, \"pfRelIso04_all\")\n",
    "        else events.Electron.pfRelIso03_all < 0.25\n",
    "    )\n",
    ")\n",
    "n_good_electrons = ak.sum(good_electrons, axis=1)\n",
    "electrons = events.Electron[good_electrons]\n",
    "\n",
    "# select good muons\n",
    "good_muons = (\n",
    "    (events.Muon.pt >= 35)\n",
    "    & (np.abs(events.Muon.eta) < 2.4)\n",
    "    & (events.Muon.tightId)\n",
    "    & (\n",
    "        events.Muon.pfRelIso04_all < 0.25\n",
    "        if hasattr(events.Muon, \"pfRelIso04_all\")\n",
    "        else events.Muon.pfRelIso03_all < 0.25\n",
    "    )\n",
    ")\n",
    "n_good_muons = ak.sum(good_muons, axis=1)\n",
    "muons = events.Muon[good_muons]\n",
    "\n",
    "# select good taus\n",
    "good_taus = (\n",
    "    (events.Tau.idDeepTau2017v2p1VSjet > 8)\n",
    "    & (events.Tau.idDeepTau2017v2p1VSe > 8)\n",
    "    & (events.Tau.idDeepTau2017v2p1VSmu > 1)\n",
    "    & (np.abs(events.Tau.eta) < 2.3)\n",
    "    & (events.Tau.pt > 20)\n",
    "    & (events.Tau.dz < 0.2)\n",
    ")\n",
    "n_good_taus = ak.sum(good_taus, axis=1)\n",
    "taus = events.Tau[good_taus]\n",
    "\n",
    "# apply JEC/JER corrections to MC jets (propagate corrections to MET)\n",
    "corrected_jets, met = jet_corrections(events, \"2017\")\n",
    "# select good jets\n",
    "good_jets = (\n",
    "    (corrected_jets.pt >= 20)\n",
    "    & (np.abs(corrected_jets.eta) < 2.4)\n",
    "    & (corrected_jets.isTightLeptonVeto)\n",
    ")\n",
    "n_good_jets = ak.sum(good_jets, axis=1)\n",
    "jets = corrected_jets[good_jets]\n",
    "\n",
    "# apply MET phi corrections\n",
    "met_pt, met_phi = met_phi_corrections(\n",
    "    met_pt=met.pt,\n",
    "    met_phi=met.phi,\n",
    "    npvs=events.PV.npvs,\n",
    ")\n",
    "met[\"pt\"], met[\"phi\"] = met_pt, met_phi"
   ]
  },
  {
   "cell_type": "markdown",
   "id": "59a7015d-434f-4251-9a73-2c7701fde222",
   "metadata": {},
   "source": [
    "#### event selection"
   ]
  },
  {
   "cell_type": "code",
   "execution_count": 4,
   "id": "c1128c49-446e-43d1-a962-4c3445425499",
   "metadata": {
    "tags": []
   },
   "outputs": [],
   "source": [
    "# make a PackedSelection object to store selection masks\n",
    "selections = PackedSelection()\n",
    "\n",
    "# add muon trigger mask \n",
    "selections.add(\"trigger_mu\", events.HLT[\"IsoMu27\"])\n",
    "\n",
    "# check that there be a minimum MET greater than 50 GeV\n",
    "selections.add(\"met_pt\", met.pt > 50)\n",
    "\n",
    "# check that jets dont overlap with our selected muons\n",
    "njets = 4\n",
    "pad_jets = ak.pad_none(jets, njets)\n",
    "for i in range(njets):\n",
    "    jet_i = pad_jets[:, i]\n",
    "    selections.add(f\"muon_jet{i}_dr\", jet_i.delta_r(ak.firsts(muons)) > 0.4)\n",
    "    \n",
    "# add number of leptons and jets\n",
    "selections.add(\"one_muon\", n_good_muons == 1)\n",
    "selections.add(\"tau_veto\", n_good_taus == 0)\n",
    "selections.add(\"atleast_4j\", ak.num(jets) >= njets)\n",
    "selections.add(\"atleast_1b\", ak.sum(jets.btagCSVV2 > btag_wp, axis=1) >= 1)\n",
    "selections.add(\"electron_veto\", n_good_electrons == 0)\n",
    "\n",
    "# define channel selection and select region jets\n",
    "region_selections = [name for name in selections.names]\n",
    "region_selection = selections.all(*region_selections)\n",
    "region_jets = jets[region_selection]"
   ]
  },
  {
   "cell_type": "markdown",
   "id": "b6105e55-084f-48d3-b91a-ca4945626f76",
   "metadata": {},
   "source": [
    "#### reconstruct hadronic top as bjj system"
   ]
  },
  {
   "cell_type": "code",
   "execution_count": 5,
   "id": "fdd634fc-32c5-49c0-b7c8-0f46c0067f21",
   "metadata": {
    "tags": []
   },
   "outputs": [
    {
     "data": {
      "text/plain": [
       "<Array [True, True, True, ... True, True, True] type='6030 * bool'>"
      ]
     },
     "execution_count": 5,
     "metadata": {},
     "output_type": "execute_result"
    }
   ],
   "source": [
    "# bjj candidates\n",
    "trijet = ak.combinations(region_jets, 3, fields=[\"j1\", \"j2\", \"j3\"])\n",
    "# calculate four-momentum of tri-jet system\n",
    "trijet[\"p4\"] = trijet.j1 + trijet.j2 + trijet.j3\n",
    "# get maximum btagDeepFlavB score\n",
    "trijet[\"max_btag\"] = np.maximum(\n",
    "    trijet.j1.btagDeepFlavB,\n",
    "    np.maximum(trijet.j2.btagDeepFlavB, trijet.j3.btagDeepFlavB),\n",
    ")\n",
    "# at least one-btag in trijet candidates\n",
    "trijet = trijet[trijet.max_btag > btag_wp]\n",
    "# compute pt and mass of trijet system\n",
    "trijet_pt = trijet[\"p4\"].pt\n",
    "trijet_mass = trijet[\"p4\"].mass\n",
    "\n",
    "# w candidates mass\n",
    "dijet_mass = ak.where(\n",
    "    trijet.j1.btagDeepFlavB > btag_wp,\n",
    "    (trijet.j2 + trijet.j3).mass,\n",
    "    (\n",
    "        ak.where(\n",
    "            trijet.j2.btagDeepFlavB > btag_wp,\n",
    "            (trijet.j1 + trijet.j3).mass,\n",
    "            (trijet.j1 + trijet.j2).mass,\n",
    "        )\n",
    "    ),\n",
    ")\n",
    "# compute chi square to select best system pt and mass\n",
    "top_mass_pdg = 173.1\n",
    "top_sigma = 35.02\n",
    "w_sigma = 20.09\n",
    "w_mass_pdg = 80.4\n",
    "chisq_threshold = 3.0\n",
    "chi_sq = ((trijet_mass - top_mass_pdg) / top_sigma) ** 2 + (\n",
    "    (dijet_mass - w_mass_pdg) / w_sigma\n",
    ") ** 2\n",
    "\n",
    "# get top candidate mask\n",
    "small_chi_sq_mask = chi_sq < chisq_threshold\n",
    "has_hadt_candidate_mask = ak.fill_none(ak.any(small_chi_sq_mask, axis=1), False)\n",
    "has_hadt_candidate_mask"
   ]
  },
  {
   "cell_type": "code",
   "execution_count": 6,
   "id": "48d95a94-48b1-4f39-8f07-891f6a7010f9",
   "metadata": {},
   "outputs": [
    {
     "data": {
      "image/png": "[encoded data removed]",
      "text/plain": [
       "<Figure size 640x480 with 1 Axes>"
      ]
     },
     "metadata": {},
     "output_type": "display_data"
    }
   ],
   "source": [
    "# find the triplet with max pt and chi2 < threshold\n",
    "trijet_pt_small_chi_sq = trijet_pt[small_chi_sq_mask]\n",
    "trijet_pt_max_small_chi_sq = trijet_pt_small_chi_sq[\n",
    "    ak.argmax(trijet_pt_small_chi_sq, keepdims=True, axis=1)\n",
    "]\n",
    "histogram = hist.Hist(\n",
    "    hist.axis.Regular(\n",
    "        bins=25, start=50, stop=550, name=\"mbjj\", label=\"$m_{bjj}$ [GeV]\"\n",
    "    ),\n",
    "    hist.storage.Weight(),\n",
    ")\n",
    "histogram.fill(mbjj=ak.fill_none(ak.flatten(trijet_pt_max_small_chi_sq), False)).plot1d();"
   ]
  },
  {
   "cell_type": "code",
   "execution_count": null,
   "id": "ab4b87aa-8990-4ba8-899b-c885e220ab55",
   "metadata": {},
   "outputs": [],
   "source": []
  }
 ],
 "metadata": {
  "kernelspec": {
   "display_name": "Python 3 (ipykernel)",
   "language": "python",
   "name": "python3"
  },
  "language_info": {
   "codemirror_mode": {
    "name": "ipython",
    "version": 3
   },
   "file_extension": ".py",
   "mimetype": "text/x-python",
   "name": "python",
   "nbconvert_exporter": "python",
   "pygments_lexer": "ipython3",
   "version": "3.8.16"
  }
 },
 "nbformat": 4,
 "nbformat_minor": 5
}
